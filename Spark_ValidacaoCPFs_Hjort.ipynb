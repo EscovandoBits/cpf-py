{
 "cells": [
  {
   "cell_type": "markdown",
   "metadata": {
    "id": "6S4crKdHYlAA"
   },
   "source": [
    "# Validação de CPFs - Experimento de validação paralelizada com Spark\n",
    "\n",
    "https://colab.research.google.com/drive/1qotmO1ZczgMRiWDlnMTxgh1nvfqjDyWC?usp=sharing"
   ]
  },
  {
   "cell_type": "markdown",
   "metadata": {
    "id": "83Rwzeaj0SYA"
   },
   "source": [
    "# Preparo dos dados"
   ]
  },
  {
   "cell_type": "markdown",
   "metadata": {
    "id": "zHfFN7KnZpfg"
   },
   "source": [
    "## Geração de números aleatórios"
   ]
  },
  {
   "cell_type": "code",
   "execution_count": 1,
   "metadata": {
    "id": "BvlaPG3omcXV"
   },
   "outputs": [],
   "source": [
    "import numpy as np"
   ]
  },
  {
   "cell_type": "code",
   "execution_count": 2,
   "metadata": {
    "colab": {
     "base_uri": "https://localhost:8080/"
    },
    "id": "jYXFv9OGZtwa",
    "outputId": "a5eab7e5-cf69-4e36-f7d8-e555b1ae0442"
   },
   "outputs": [
    {
     "name": "stdout",
     "output_type": "stream",
     "text": [
      "Amostra de valores:\n",
      " [29190929843 46298420295 27684640889 ... 39837153915 56931352828\n",
      " 23285346913]\n",
      "Quantidade de itens: 100000000\n",
      "Tamanho em memória: 762.9 MB\n"
     ]
    }
   ],
   "source": [
    "# Geração de números inteiros com até 9 dígitos\n",
    "# para posterior cálculo de DV usando algoritmo\n",
    "# de validação de CPFs\n",
    "np.random.seed(42)\n",
    "\n",
    "# quantidade de números a serem gerados\n",
    "#num_amostras = 200\n",
    "#num_amostras = int(10e6)\n",
    "num_amostras = int(100e6)\n",
    "\n",
    "# Geração das amostras (números inteiros com até 11 dígitos)\n",
    "amostras = np.random.randint(99999999999, size=num_amostras)\n",
    "\n",
    "# exibir informações do array de amostra\n",
    "print('Amostra de valores:\\n', amostras)\n",
    "print('Quantidade de itens:', len(amostras))\n",
    "print('Tamanho em memória: %.1f MB' % (amostras.size * amostras.itemsize / 1024 / 1024))\n"
   ]
  },
  {
   "cell_type": "markdown",
   "metadata": {
    "id": "p_bfJ1DE0bk0"
   },
   "source": [
    "## Geração de múltiplos arquivos"
   ]
  },
  {
   "cell_type": "code",
   "execution_count": 3,
   "metadata": {
    "colab": {
     "base_uri": "https://localhost:8080/"
    },
    "id": "2JuB7izz0doN",
    "outputId": "c2aa5f02-5184-44f9-f9b9-a08c02298a16"
   },
   "outputs": [
    {
     "data": {
      "text/plain": [
       "array([29190929843, 46298420295, 27684640889, 77738800342, 44922131914,\n",
       "       13498510183, 90436599092,  7395928407, 51275693469, 21478181249])"
      ]
     },
     "execution_count": 3,
     "metadata": {},
     "output_type": "execute_result"
    }
   ],
   "source": [
    "# quantidade de partições (arquivos a serem gerados)\n",
    "qtd_particoes = 20\n",
    "\n",
    "# dividir o vetor nas diversas partições\n",
    "amostras_particoes = np.array_split(amostras, qtd_particoes)\n",
    "amostras_particoes[0][:10]"
   ]
  },
  {
   "cell_type": "code",
   "execution_count": 4,
   "metadata": {
    "id": "q-0nPILM0dlk"
   },
   "outputs": [],
   "source": [
    "!rm -rf arquivos && mkdir arquivos"
   ]
  },
  {
   "cell_type": "code",
   "execution_count": 5,
   "metadata": {
    "colab": {
     "base_uri": "https://localhost:8080/"
    },
    "id": "v1rqFdGx0djF",
    "outputId": "136fbd2e-b9ad-44a3-db64-7cbd9e8af2de"
   },
   "outputs": [
    {
     "name": "stdout",
     "output_type": "stream",
     "text": [
      "arquivos/001.txt\n",
      "arquivos/002.txt\n",
      "arquivos/003.txt\n",
      "arquivos/004.txt\n",
      "arquivos/005.txt\n",
      "arquivos/006.txt\n",
      "arquivos/007.txt\n",
      "arquivos/008.txt\n",
      "arquivos/009.txt\n",
      "arquivos/010.txt\n",
      "arquivos/011.txt\n",
      "arquivos/012.txt\n",
      "arquivos/013.txt\n",
      "arquivos/014.txt\n",
      "arquivos/015.txt\n",
      "arquivos/016.txt\n",
      "arquivos/017.txt\n",
      "arquivos/018.txt\n",
      "arquivos/019.txt\n",
      "arquivos/020.txt\n"
     ]
    }
   ],
   "source": [
    "# gerar um arquivo de texto para cada partição\n",
    "for i in range(len(amostras_particoes)):\n",
    "  arq = \"arquivos/%03d.txt\" % (i+1)\n",
    "  print(arq)\n",
    "  np.savetxt(arq, amostras_particoes[i], fmt='%d')"
   ]
  },
  {
   "cell_type": "code",
   "execution_count": 4,
   "metadata": {
    "colab": {
     "base_uri": "https://localhost:8080/"
    },
    "id": "4gQjPlmi0lyV",
    "outputId": "e52b3b97-7c7b-4dc0-b3c9-99b73e22a532"
   },
   "outputs": [
    {
     "name": "stdout",
     "output_type": "stream",
     "text": [
      "-rw-r--r-- 1 hjort paranoa 57M fev 23 21:10 arquivos/001.txt\r\n",
      "-rw-r--r-- 1 hjort paranoa 57M fev 23 21:10 arquivos/002.txt\r\n",
      "-rw-r--r-- 1 hjort paranoa 57M fev 23 21:10 arquivos/003.txt\r\n",
      "-rw-r--r-- 1 hjort paranoa 57M fev 23 21:10 arquivos/004.txt\r\n",
      "-rw-r--r-- 1 hjort paranoa 57M fev 23 21:10 arquivos/005.txt\r\n",
      "-rw-r--r-- 1 hjort paranoa 57M fev 23 21:10 arquivos/006.txt\r\n",
      "-rw-r--r-- 1 hjort paranoa 57M fev 23 21:10 arquivos/007.txt\r\n",
      "-rw-r--r-- 1 hjort paranoa 57M fev 23 21:10 arquivos/008.txt\r\n",
      "-rw-r--r-- 1 hjort paranoa 57M fev 23 21:10 arquivos/009.txt\r\n",
      "-rw-r--r-- 1 hjort paranoa 57M fev 23 21:10 arquivos/010.txt\r\n",
      "-rw-r--r-- 1 hjort paranoa 57M fev 23 21:10 arquivos/011.txt\r\n",
      "-rw-r--r-- 1 hjort paranoa 57M fev 23 21:11 arquivos/012.txt\r\n",
      "-rw-r--r-- 1 hjort paranoa 57M fev 23 21:11 arquivos/013.txt\r\n",
      "-rw-r--r-- 1 hjort paranoa 57M fev 23 21:11 arquivos/014.txt\r\n",
      "-rw-r--r-- 1 hjort paranoa 57M fev 23 21:11 arquivos/015.txt\r\n",
      "-rw-r--r-- 1 hjort paranoa 57M fev 23 21:11 arquivos/016.txt\r\n",
      "-rw-r--r-- 1 hjort paranoa 57M fev 23 21:11 arquivos/017.txt\r\n",
      "-rw-r--r-- 1 hjort paranoa 57M fev 23 21:11 arquivos/018.txt\r\n",
      "-rw-r--r-- 1 hjort paranoa 57M fev 23 21:11 arquivos/019.txt\r\n",
      "-rw-r--r-- 1 hjort paranoa 57M fev 23 21:11 arquivos/020.txt\r\n"
     ]
    }
   ],
   "source": [
    "!ls -lah arquivos/*"
   ]
  },
  {
   "cell_type": "code",
   "execution_count": 5,
   "metadata": {
    "id": "TxBnfpOu0oQG"
   },
   "outputs": [],
   "source": [
    "del amostras_particoes"
   ]
  },
  {
   "cell_type": "markdown",
   "metadata": {
    "id": "l-r13ST60qV2"
   },
   "source": [
    "# Criação da função de validação"
   ]
  },
  {
   "cell_type": "markdown",
   "metadata": {
    "id": "8RxjBGGjZ_Y4"
   },
   "source": [
    "## Função de validação de dígito verificador de CPF\n",
    "\n",
    "> Retorna True caso o número de CPF seja válido, False caso contrário."
   ]
  },
  {
   "cell_type": "code",
   "execution_count": 6,
   "metadata": {
    "id": "cL3S_pO9aEn6"
   },
   "outputs": [],
   "source": [
    "# Baseado no algoritmo em Linguagem C:\n",
    "# https://github.com/EscovandoBits/cpf/blob/main/cpf.c\n",
    "\n",
    "# verifica se um número de CPF é válido\n",
    "def cpf_valido(n):\n",
    "  #print('cpf_valido(%011d)' % n)\n",
    "\n",
    "  # extrair dígitos verificadores\n",
    "  dv = n % 100\n",
    "  d10 = dv // 10\n",
    "  d11 = dv % 10\n",
    "\n",
    "  # calcular penúltimo dígito\n",
    "  v1 = 0\n",
    "  r = n // 100\n",
    "  i = 9\n",
    "  while True:\n",
    "    d = r % 10\n",
    "    r = r // 10\n",
    "    v1 += i * d\n",
    "    i = i - 1\n",
    "    if not (r > 0 and i > 0):\n",
    "      break\n",
    "  v1 = (v1 % 11) % 10\n",
    "  if (v1 != d10):\n",
    "    return False\n",
    "\n",
    "  # calcular último dígito\n",
    "  v2 = 0\n",
    "  r = n // 100\n",
    "  i = 8\n",
    "  while True:\n",
    "    d = r % 10\n",
    "    r = r // 10\n",
    "    v2 += i * d\n",
    "    i = i - 1\n",
    "    if not (r > 0 and i > 0):\n",
    "      break\n",
    "  v2 += 9 * v1\n",
    "  v2 = (v2 % 11) % 10\n",
    "  if (v2 != d11):\n",
    "    return False\n",
    "\n",
    "  return True"
   ]
  },
  {
   "cell_type": "code",
   "execution_count": 7,
   "metadata": {
    "colab": {
     "base_uri": "https://localhost:8080/"
    },
    "id": "ZfhjKnhqs7Ke",
    "outputId": "1751029e-515b-4dbb-ae08-d46bbac4e4b5"
   },
   "outputs": [
    {
     "name": "stdout",
     "output_type": "stream",
     "text": [
      "cpf_valido(11111111111)? True\n",
      "cpf_valido(11111111112)? False\n",
      "cpf_valido(22222222222)? True\n",
      "cpf_valido(22222222221)? False\n",
      "cpf_valido(00000000123)? False\n"
     ]
    }
   ],
   "source": [
    "# teste de execução da função\n",
    "for num in [11111111111, 11111111112, 22222222222, 22222222221, 123]:\n",
    "  print('cpf_valido(%011d)? %s' % (num, cpf_valido(num)))"
   ]
  },
  {
   "cell_type": "markdown",
   "metadata": {
    "id": "LpqwoPRHaPoy"
   },
   "source": [
    "# Processamento parelizado"
   ]
  },
  {
   "cell_type": "markdown",
   "metadata": {
    "id": "1Z_nxWZIicJC"
   },
   "source": [
    "## Instalação do PySpark"
   ]
  },
  {
   "cell_type": "code",
   "execution_count": 8,
   "metadata": {
    "id": "uw_UxIv2iefP"
   },
   "outputs": [],
   "source": [
    "#!pip install -q pyspark"
   ]
  },
  {
   "cell_type": "markdown",
   "metadata": {
    "id": "LrJZi3rGiohg"
   },
   "source": [
    "## Inicialização da sessão Spark"
   ]
  },
  {
   "cell_type": "code",
   "execution_count": 9,
   "metadata": {
    "colab": {
     "base_uri": "https://localhost:8080/",
     "height": 216
    },
    "id": "6unSsOpJinNp",
    "outputId": "a89ea3df-3a27-4060-8b74-3db539cbcff8"
   },
   "outputs": [
    {
     "data": {
      "text/html": [
       "\n",
       "            <div>\n",
       "                <p><b>SparkSession - in-memory</b></p>\n",
       "                \n",
       "        <div>\n",
       "            <p><b>SparkContext</b></p>\n",
       "\n",
       "            <p><a href=\"http://192.168.0.15:4040\">Spark UI</a></p>\n",
       "\n",
       "            <dl>\n",
       "              <dt>Version</dt>\n",
       "                <dd><code>v3.3.2</code></dd>\n",
       "              <dt>Master</dt>\n",
       "                <dd><code>local[*]</code></dd>\n",
       "              <dt>AppName</dt>\n",
       "                <dd><code>my-cool-app</code></dd>\n",
       "            </dl>\n",
       "        </div>\n",
       "        \n",
       "            </div>\n",
       "        "
      ],
      "text/plain": [
       "<pyspark.sql.session.SparkSession at 0x7fbd4dc7db20>"
      ]
     },
     "execution_count": 9,
     "metadata": {},
     "output_type": "execute_result"
    }
   ],
   "source": [
    "from pyspark.sql import SparkSession\n",
    "\n",
    "spark = SparkSession.builder \\\n",
    "    .master('local[*]') \\\n",
    "    .config(\"spark.driver.memory\", \"10g\") \\\n",
    "    .appName('my-cool-app') \\\n",
    "    .getOrCreate()\n",
    "#spark = SparkSession.builder.getOrCreate()\n",
    "spark"
   ]
  },
  {
   "cell_type": "markdown",
   "metadata": {
    "id": "ojkkDGAUpBRW"
   },
   "source": [
    "Referências:\n",
    "- https://spark.apache.org/docs/latest/rdd-programming-guide.html\n",
    "- https://stackoverflow.com/questions/32336915/pyspark-java-lang-outofmemoryerror-java-heap-space"
   ]
  },
  {
   "cell_type": "markdown",
   "metadata": {
    "id": "OdC9FGewnGWr"
   },
   "source": [
    "## Criação dos dados"
   ]
  },
  {
   "cell_type": "markdown",
   "metadata": {
    "id": "mODGMq221E-1"
   },
   "source": [
    "### Via vetor na memória"
   ]
  },
  {
   "cell_type": "code",
   "execution_count": 19,
   "metadata": {
    "colab": {
     "base_uri": "https://localhost:8080/"
    },
    "id": "iuy1zC57i_XW",
    "outputId": "ef09c6a9-1581-40e6-dcea-3591f5514ddc"
   },
   "outputs": [
    {
     "name": "stdout",
     "output_type": "stream",
     "text": [
      "CPU times: user 4min 34s, sys: 1.36 s, total: 4min 36s\n",
      "Wall time: 4min 40s\n"
     ]
    },
    {
     "data": {
      "text/plain": [
       "ParallelCollectionRDD[9] at readRDDFromFile at PythonRDD.scala:274"
      ]
     },
     "execution_count": 19,
     "metadata": {},
     "output_type": "execute_result"
    }
   ],
   "source": [
    "%%time\n",
    "\n",
    "# criação do vetor de forma distribuída a partir da memória\n",
    "rdd = spark.sparkContext.parallelize(amostras)\n",
    "#rdd = spark.sparkContext.parallelize(amostras, 10)\n",
    "rdd"
   ]
  },
  {
   "cell_type": "code",
   "execution_count": 20,
   "metadata": {
    "colab": {
     "base_uri": "https://localhost:8080/"
    },
    "id": "5I2RorKJqHSe",
    "outputId": "7586909a-0e1f-4877-de2b-5b00803f28da"
   },
   "outputs": [
    {
     "data": {
      "text/plain": [
       "12"
      ]
     },
     "execution_count": 20,
     "metadata": {},
     "output_type": "execute_result"
    }
   ],
   "source": [
    "rdd.getNumPartitions()"
   ]
  },
  {
   "cell_type": "code",
   "execution_count": 21,
   "metadata": {
    "colab": {
     "base_uri": "https://localhost:8080/"
    },
    "id": "WUEdIPVuk-zA",
    "outputId": "69bd507b-d234-4621-e42e-bd380d131f7a"
   },
   "outputs": [
    {
     "data": {
      "text/plain": [
       "[29190929843,\n",
       " 46298420295,\n",
       " 27684640889,\n",
       " 77738800342,\n",
       " 44922131914,\n",
       " 13498510183,\n",
       " 90436599092,\n",
       " 7395928407,\n",
       " 51275693469,\n",
       " 21478181249]"
      ]
     },
     "execution_count": 21,
     "metadata": {},
     "output_type": "execute_result"
    }
   ],
   "source": [
    "rdd.take(10)\n",
    "#rdd.sample(withReplacement=False, fraction=0.1).take(10)"
   ]
  },
  {
   "cell_type": "markdown",
   "metadata": {
    "id": "LyIvklvr1ICl"
   },
   "source": [
    "### Via arquivos de texto"
   ]
  },
  {
   "cell_type": "code",
   "execution_count": 10,
   "metadata": {
    "colab": {
     "base_uri": "https://localhost:8080/"
    },
    "id": "-lLe1uqW1I6K",
    "outputId": "7eaf7f5c-2fc8-4070-e527-bf455272cfda"
   },
   "outputs": [
    {
     "data": {
      "text/plain": [
       "PythonRDD[2] at RDD at PythonRDD.scala:53"
      ]
     },
     "execution_count": 10,
     "metadata": {},
     "output_type": "execute_result"
    }
   ],
   "source": [
    "# criação do vetor a partir dos arquivos de forma preguiçosa\n",
    "rdd = spark.sparkContext.textFile(\"arquivos/*.txt\").map(lambda x: int(x))\n",
    "#rdd = spark.read.text(\"arquivos/*.txt\").rdd\n",
    "rdd"
   ]
  },
  {
   "cell_type": "code",
   "execution_count": 11,
   "metadata": {
    "colab": {
     "base_uri": "https://localhost:8080/"
    },
    "id": "zRDWKFmh2x0V",
    "outputId": "b591cd12-0d01-45cd-e00f-1c54c1faad46"
   },
   "outputs": [
    {
     "data": {
      "text/plain": [
       "40"
      ]
     },
     "execution_count": 11,
     "metadata": {},
     "output_type": "execute_result"
    }
   ],
   "source": [
    "rdd.getNumPartitions()"
   ]
  },
  {
   "cell_type": "code",
   "execution_count": 12,
   "metadata": {
    "colab": {
     "base_uri": "https://localhost:8080/"
    },
    "id": "G1W_-sf-1I3s",
    "outputId": "17e20982-7334-4fae-92bf-0ad5c26b8356"
   },
   "outputs": [
    {
     "data": {
      "text/plain": [
       "[29190929843,\n",
       " 46298420295,\n",
       " 27684640889,\n",
       " 77738800342,\n",
       " 44922131914,\n",
       " 13498510183,\n",
       " 90436599092,\n",
       " 7395928407,\n",
       " 51275693469,\n",
       " 21478181249]"
      ]
     },
     "execution_count": 12,
     "metadata": {},
     "output_type": "execute_result"
    }
   ],
   "source": [
    "rdd.take(10)"
   ]
  },
  {
   "cell_type": "markdown",
   "metadata": {
    "id": "J3nYzTKMnbFT"
   },
   "source": [
    "## Filtragem com _filter_"
   ]
  },
  {
   "cell_type": "code",
   "execution_count": 22,
   "metadata": {
    "colab": {
     "base_uri": "https://localhost:8080/"
    },
    "id": "RAJMOYVSk-q_",
    "outputId": "0defd6f2-c2f5-41c2-ab00-4ca5eb17e8c0"
   },
   "outputs": [
    {
     "data": {
      "text/plain": [
       "[77738800342, 90436599092, 7395928407, 51275693469, 21478181249]"
      ]
     },
     "execution_count": 22,
     "metadata": {},
     "output_type": "execute_result"
    }
   ],
   "source": [
    "rdd.filter(lambda n: n % 7 == 0).take(5)"
   ]
  },
  {
   "cell_type": "code",
   "execution_count": 23,
   "metadata": {
    "colab": {
     "base_uri": "https://localhost:8080/"
    },
    "id": "qKGmkcnUlQ1X",
    "outputId": "33e84301-e9b5-4baf-93f4-cc16784e2209"
   },
   "outputs": [
    {
     "data": {
      "text/plain": [
       "[7395928407, 67890174292, 39542408234, 64972932643, 29879232283]"
      ]
     },
     "execution_count": 23,
     "metadata": {},
     "output_type": "execute_result"
    }
   ],
   "source": [
    "rdd.filter(lambda x: cpf_valido(x)).take(5)"
   ]
  },
  {
   "cell_type": "code",
   "execution_count": 24,
   "metadata": {
    "id": "85LDI5cunSlX"
   },
   "outputs": [],
   "source": [
    "#del amostras"
   ]
  },
  {
   "cell_type": "code",
   "execution_count": 25,
   "metadata": {
    "colab": {
     "base_uri": "https://localhost:8080/"
    },
    "id": "qpj_8GmmqTTO",
    "outputId": "9ca4cdcf-2c24-476f-f9c3-4eaa4fe6dbec"
   },
   "outputs": [
    {
     "name": "stdout",
     "output_type": "stream",
     "text": [
      "CPU times: user 265 ms, sys: 28.3 ms, total: 293 ms\n",
      "Wall time: 3min 45s\n"
     ]
    }
   ],
   "source": [
    "%%time\n",
    "cpfs_validos = rdd.filter(lambda x: cpf_valido(x)).collect()"
   ]
  },
  {
   "cell_type": "markdown",
   "metadata": {
    "id": "G2sB7aUdn3If"
   },
   "source": [
    "## Resultado"
   ]
  },
  {
   "cell_type": "code",
   "execution_count": 17,
   "metadata": {
    "colab": {
     "base_uri": "https://localhost:8080/"
    },
    "id": "-42qV6D5nxvL",
    "outputId": "008e7f85-0fb9-4d04-9f93-9ce20cf80dc4"
   },
   "outputs": [
    {
     "data": {
      "text/plain": [
       "[7395928407,\n",
       " 67890174292,\n",
       " 39542408234,\n",
       " 64972932643,\n",
       " 29879232283,\n",
       " 20298534452,\n",
       " 40277561426,\n",
       " 91162110228,\n",
       " 15646246172,\n",
       " 21763352609]"
      ]
     },
     "execution_count": 17,
     "metadata": {},
     "output_type": "execute_result"
    }
   ],
   "source": [
    "# exibição do resultado\n",
    "cpfs_validos[:10]"
   ]
  },
  {
   "cell_type": "code",
   "execution_count": 18,
   "metadata": {
    "colab": {
     "base_uri": "https://localhost:8080/"
    },
    "id": "87VfhaCin8SR",
    "outputId": "ed55d331-9d57-4b6e-e050-7d5eb69c09a4"
   },
   "outputs": [
    {
     "name": "stdout",
     "output_type": "stream",
     "text": [
      "Do total de 100000000 números da amostra, apenas 1001198 são CPFs válidos (1.00%).\n"
     ]
    }
   ],
   "source": [
    "print(\"Do total de %d números da amostra, apenas %d são CPFs válidos (%.2f%%).\" % (\n",
    "    rdd.count(), len(cpfs_validos),\n",
    "    len(cpfs_validos) / rdd.count() * 100))"
   ]
  },
  {
   "cell_type": "markdown",
   "metadata": {
    "id": "xKcyX1a3oDrR"
   },
   "source": [
    "## Finalização da sessão Spark"
   ]
  },
  {
   "cell_type": "code",
   "execution_count": 60,
   "metadata": {
    "id": "f4q_yVhdoAzl"
   },
   "outputs": [],
   "source": [
    "spark.stop()"
   ]
  }
 ],
 "metadata": {
  "colab": {
   "provenance": [],
   "toc_visible": true
  },
  "kernelspec": {
   "display_name": "Python 3",
   "language": "python",
   "name": "python3"
  },
  "language_info": {
   "codemirror_mode": {
    "name": "ipython",
    "version": 3
   },
   "file_extension": ".py",
   "mimetype": "text/x-python",
   "name": "python",
   "nbconvert_exporter": "python",
   "pygments_lexer": "ipython3",
   "version": "3.8.8"
  }
 },
 "nbformat": 4,
 "nbformat_minor": 1
}

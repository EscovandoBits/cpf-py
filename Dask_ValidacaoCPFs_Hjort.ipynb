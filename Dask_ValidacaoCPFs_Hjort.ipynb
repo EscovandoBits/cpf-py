{
 "cells": [
  {
   "cell_type": "markdown",
   "metadata": {
    "id": "6S4crKdHYlAA"
   },
   "source": [
    "# Validação de CPFs - Experimento de validação paralelizada com Dask\n",
    "\n",
    "https://colab.research.google.com/drive/1T7aMBFqOSsbB7BWPtmJZScO9o3CaUc_y?usp=sharing"
   ]
  },
  {
   "cell_type": "markdown",
   "metadata": {
    "id": "QScTrozKpjT_"
   },
   "source": [
    "# Preparo dos dados"
   ]
  },
  {
   "cell_type": "markdown",
   "metadata": {
    "id": "zHfFN7KnZpfg"
   },
   "source": [
    "## Geração de números aleatórios"
   ]
  },
  {
   "cell_type": "code",
   "execution_count": 1,
   "metadata": {
    "id": "BvlaPG3omcXV"
   },
   "outputs": [],
   "source": [
    "import numpy as np"
   ]
  },
  {
   "cell_type": "code",
   "execution_count": 2,
   "metadata": {
    "colab": {
     "base_uri": "https://localhost:8080/"
    },
    "id": "jYXFv9OGZtwa",
    "outputId": "8688f522-d402-4518-fa80-c426a8b60cd8"
   },
   "outputs": [
    {
     "name": "stdout",
     "output_type": "stream",
     "text": [
      "Amostra de valores:\n",
      " [29190929843 46298420295 27684640889 ... 39837153915 56931352828\n",
      " 23285346913]\n",
      "Quantidade de itens: 100000000\n",
      "Tamanho em memória: 762.9 MB\n"
     ]
    }
   ],
   "source": [
    "# Geração de números inteiros com até 9 dígitos\n",
    "# para posterior cálculo de DV usando algoritmo\n",
    "# de validação de CPFs\n",
    "np.random.seed(42)\n",
    "\n",
    "# quantidade de números a serem gerados\n",
    "#num_amostras = 200\n",
    "#num_amostras = int(10e6)\n",
    "num_amostras = int(100e6)\n",
    "\n",
    "# Geração das amostras (números inteiros com até 11 dígitos)\n",
    "amostras = np.random.randint(99999999999, size=num_amostras)\n",
    "\n",
    "# exibir informações do array de amostra\n",
    "print('Amostra de valores:\\n', amostras)\n",
    "print('Quantidade de itens:', len(amostras))\n",
    "print('Tamanho em memória: %.1f MB' % (amostras.size * amostras.itemsize / 1024 / 1024))\n"
   ]
  },
  {
   "cell_type": "markdown",
   "metadata": {
    "id": "j6OHW1UzUr9P"
   },
   "source": [
    "## Geração de múltiplos arquivos"
   ]
  },
  {
   "cell_type": "code",
   "execution_count": 3,
   "metadata": {
    "colab": {
     "base_uri": "https://localhost:8080/"
    },
    "id": "8DJ5_1LOUx8X",
    "outputId": "1ca8124d-809d-4058-b79c-692dc8dc758d"
   },
   "outputs": [
    {
     "data": {
      "text/plain": [
       "array([29190929843, 46298420295, 27684640889, 77738800342, 44922131914,\n",
       "       13498510183, 90436599092,  7395928407, 51275693469, 21478181249])"
      ]
     },
     "execution_count": 3,
     "metadata": {},
     "output_type": "execute_result"
    }
   ],
   "source": [
    "# quantidade de partições (arquivos a serem gerados)\n",
    "qtd_particoes = 20\n",
    "\n",
    "# dividir o vetor nas diversas partições\n",
    "amostras_particoes = np.array_split(amostras, qtd_particoes)\n",
    "amostras_particoes[0][:10]"
   ]
  },
  {
   "cell_type": "code",
   "execution_count": 4,
   "metadata": {
    "id": "6dEMiuLdZnOq"
   },
   "outputs": [],
   "source": [
    "!rm -rf arquivos && mkdir arquivos"
   ]
  },
  {
   "cell_type": "code",
   "execution_count": 5,
   "metadata": {
    "colab": {
     "base_uri": "https://localhost:8080/"
    },
    "id": "S2omTXHmW5iG",
    "outputId": "6229bc41-0ec0-4ca4-db15-bb7445557fc0"
   },
   "outputs": [
    {
     "name": "stdout",
     "output_type": "stream",
     "text": [
      "arquivos/001.txt\n",
      "arquivos/002.txt\n",
      "arquivos/003.txt\n",
      "arquivos/004.txt\n",
      "arquivos/005.txt\n",
      "arquivos/006.txt\n",
      "arquivos/007.txt\n",
      "arquivos/008.txt\n",
      "arquivos/009.txt\n",
      "arquivos/010.txt\n",
      "arquivos/011.txt\n",
      "arquivos/012.txt\n",
      "arquivos/013.txt\n",
      "arquivos/014.txt\n",
      "arquivos/015.txt\n",
      "arquivos/016.txt\n",
      "arquivos/017.txt\n",
      "arquivos/018.txt\n",
      "arquivos/019.txt\n",
      "arquivos/020.txt\n"
     ]
    }
   ],
   "source": [
    "# gerar um arquivo de texto para cada partição\n",
    "for i in range(len(amostras_particoes)):\n",
    "  arq = \"arquivos/%03d.txt\" % (i+1)\n",
    "  print(arq)\n",
    "  np.savetxt(arq, amostras_particoes[i], fmt='%d')"
   ]
  },
  {
   "cell_type": "code",
   "execution_count": 6,
   "metadata": {
    "colab": {
     "base_uri": "https://localhost:8080/"
    },
    "id": "eocafF5waWGl",
    "outputId": "2071cb88-8aae-49ca-dc03-889ac65a0cd0"
   },
   "outputs": [
    {
     "name": "stdout",
     "output_type": "stream",
     "text": [
      "-rw-r--r-- 1 hjort paranoa 57M fev 23 21:10 arquivos/001.txt\r\n",
      "-rw-r--r-- 1 hjort paranoa 57M fev 23 21:10 arquivos/002.txt\r\n",
      "-rw-r--r-- 1 hjort paranoa 57M fev 23 21:10 arquivos/003.txt\r\n",
      "-rw-r--r-- 1 hjort paranoa 57M fev 23 21:10 arquivos/004.txt\r\n",
      "-rw-r--r-- 1 hjort paranoa 57M fev 23 21:10 arquivos/005.txt\r\n",
      "-rw-r--r-- 1 hjort paranoa 57M fev 23 21:10 arquivos/006.txt\r\n",
      "-rw-r--r-- 1 hjort paranoa 57M fev 23 21:10 arquivos/007.txt\r\n",
      "-rw-r--r-- 1 hjort paranoa 57M fev 23 21:10 arquivos/008.txt\r\n",
      "-rw-r--r-- 1 hjort paranoa 57M fev 23 21:10 arquivos/009.txt\r\n",
      "-rw-r--r-- 1 hjort paranoa 57M fev 23 21:10 arquivos/010.txt\r\n",
      "-rw-r--r-- 1 hjort paranoa 57M fev 23 21:10 arquivos/011.txt\r\n",
      "-rw-r--r-- 1 hjort paranoa 57M fev 23 21:11 arquivos/012.txt\r\n",
      "-rw-r--r-- 1 hjort paranoa 57M fev 23 21:11 arquivos/013.txt\r\n",
      "-rw-r--r-- 1 hjort paranoa 57M fev 23 21:11 arquivos/014.txt\r\n",
      "-rw-r--r-- 1 hjort paranoa 57M fev 23 21:11 arquivos/015.txt\r\n",
      "-rw-r--r-- 1 hjort paranoa 57M fev 23 21:11 arquivos/016.txt\r\n",
      "-rw-r--r-- 1 hjort paranoa 57M fev 23 21:11 arquivos/017.txt\r\n",
      "-rw-r--r-- 1 hjort paranoa 57M fev 23 21:11 arquivos/018.txt\r\n",
      "-rw-r--r-- 1 hjort paranoa 57M fev 23 21:11 arquivos/019.txt\r\n",
      "-rw-r--r-- 1 hjort paranoa 57M fev 23 21:11 arquivos/020.txt\r\n"
     ]
    }
   ],
   "source": [
    "!ls -lah arquivos/*"
   ]
  },
  {
   "cell_type": "code",
   "execution_count": 7,
   "metadata": {
    "id": "lAn5PP3KbtNf"
   },
   "outputs": [],
   "source": [
    "del amostras_particoes"
   ]
  },
  {
   "cell_type": "markdown",
   "metadata": {
    "id": "ePoFGrQypo0H"
   },
   "source": [
    "# Criação da função de validação"
   ]
  },
  {
   "cell_type": "markdown",
   "metadata": {
    "id": "8RxjBGGjZ_Y4"
   },
   "source": [
    "## Função de validação de dígito verificador de CPF\n",
    "\n",
    "> Retorna True caso o número de CPF seja válido, False caso contrário."
   ]
  },
  {
   "cell_type": "code",
   "execution_count": 8,
   "metadata": {
    "id": "cL3S_pO9aEn6"
   },
   "outputs": [],
   "source": [
    "# Baseado no algoritmo em Linguagem C:\n",
    "# https://github.com/EscovandoBits/cpf/blob/main/cpf.c\n",
    "\n",
    "# verifica se um número de CPF é válido\n",
    "def cpf_valido(n):\n",
    "  #print('cpf_valido(%011d)' % n)\n",
    "\n",
    "  # extrair dígitos verificadores\n",
    "  dv = n % 100\n",
    "  d10 = dv // 10\n",
    "  d11 = dv % 10\n",
    "\n",
    "  # calcular penúltimo dígito\n",
    "  v1 = 0\n",
    "  r = n // 100\n",
    "  i = 9\n",
    "  while True:\n",
    "    d = r % 10\n",
    "    r = r // 10\n",
    "    v1 += i * d\n",
    "    i = i - 1\n",
    "    if not (r > 0 and i > 0):\n",
    "      break\n",
    "  v1 = (v1 % 11) % 10\n",
    "  if (v1 != d10):\n",
    "    return False\n",
    "\n",
    "  # calcular último dígito\n",
    "  v2 = 0\n",
    "  r = n // 100\n",
    "  i = 8\n",
    "  while True:\n",
    "    d = r % 10\n",
    "    r = r // 10\n",
    "    v2 += i * d\n",
    "    i = i - 1\n",
    "    if not (r > 0 and i > 0):\n",
    "      break\n",
    "  v2 += 9 * v1\n",
    "  v2 = (v2 % 11) % 10\n",
    "  if (v2 != d11):\n",
    "    return False\n",
    "\n",
    "  return True"
   ]
  },
  {
   "cell_type": "code",
   "execution_count": 9,
   "metadata": {
    "colab": {
     "base_uri": "https://localhost:8080/"
    },
    "id": "ZfhjKnhqs7Ke",
    "outputId": "d7db5d99-e646-44ff-af2c-148b3503ef3e"
   },
   "outputs": [
    {
     "name": "stdout",
     "output_type": "stream",
     "text": [
      "cpf_valido(11111111111)? True\n",
      "cpf_valido(11111111112)? False\n",
      "cpf_valido(22222222222)? True\n",
      "cpf_valido(22222222221)? False\n",
      "cpf_valido(00000000123)? False\n"
     ]
    }
   ],
   "source": [
    "# teste de execução da função\n",
    "for num in [11111111111, 11111111112, 22222222222, 22222222221, 123]:\n",
    "  print('cpf_valido(%011d)? %s' % (num, cpf_valido(num)))"
   ]
  },
  {
   "cell_type": "code",
   "execution_count": 10,
   "metadata": {
    "colab": {
     "base_uri": "https://localhost:8080/"
    },
    "id": "pWEVOveiLOfh",
    "outputId": "31bf37fb-9a16-4ae2-add9-6db56e2b6f51"
   },
   "outputs": [
    {
     "data": {
      "text/plain": [
       "<numpy.vectorize at 0x7f005189fac0>"
      ]
     },
     "execution_count": 10,
     "metadata": {},
     "output_type": "execute_result"
    }
   ],
   "source": [
    "vcpf_valido = np.vectorize(cpf_valido)\n",
    "vcpf_valido"
   ]
  },
  {
   "cell_type": "markdown",
   "metadata": {
    "id": "vnqk405pp89X"
   },
   "source": [
    "# Processamento sequencial"
   ]
  },
  {
   "cell_type": "markdown",
   "metadata": {
    "id": "kLi5ZjAd3Ofv"
   },
   "source": [
    "## Aplicação em arrays"
   ]
  },
  {
   "cell_type": "code",
   "execution_count": 11,
   "metadata": {
    "colab": {
     "base_uri": "https://localhost:8080/"
    },
    "id": "U_B8AeNkoZRH",
    "outputId": "e7673989-b261-43b9-ff8b-b22f4d14d879"
   },
   "outputs": [
    {
     "data": {
      "text/plain": [
       "array([29190929843, 46298420295, 27684640889, 77738800342, 44922131914])"
      ]
     },
     "execution_count": 11,
     "metadata": {},
     "output_type": "execute_result"
    }
   ],
   "source": [
    "a = amostras[:5]\n",
    "a"
   ]
  },
  {
   "cell_type": "code",
   "execution_count": 12,
   "metadata": {
    "colab": {
     "base_uri": "https://localhost:8080/"
    },
    "id": "iiGV6lIqxGCd",
    "outputId": "fead8184-5eee-4d86-ca6b-c67474c252f6"
   },
   "outputs": [
    {
     "data": {
      "text/plain": [
       "[False, False, False, False, False]"
      ]
     },
     "execution_count": 12,
     "metadata": {},
     "output_type": "execute_result"
    }
   ],
   "source": [
    "b = [cpf_valido(n) for n in a]\n",
    "b"
   ]
  },
  {
   "cell_type": "code",
   "execution_count": 13,
   "metadata": {
    "id": "GYwSen1Po69o"
   },
   "outputs": [],
   "source": [
    "def div7b(num):\n",
    "  #return ((num % 7 == 0) & (num / 1 == num)).any()\n",
    "  #return ((num % 7 == 0) & (num / 1 == num)).all()\n",
    "  #return (num % 7 == 0) and (num / 1 == num)\n",
    "  return num % 7 == 0"
   ]
  },
  {
   "cell_type": "code",
   "execution_count": 14,
   "metadata": {
    "colab": {
     "base_uri": "https://localhost:8080/"
    },
    "id": "BIJH5clqo67H",
    "outputId": "38813395-36fb-41e2-9d59-7780ed5d3c8b"
   },
   "outputs": [
    {
     "data": {
      "text/plain": [
       "array([False, False, False,  True, False])"
      ]
     },
     "execution_count": 14,
     "metadata": {},
     "output_type": "execute_result"
    }
   ],
   "source": [
    "div7b(a)"
   ]
  },
  {
   "cell_type": "code",
   "execution_count": 15,
   "metadata": {
    "colab": {
     "base_uri": "https://localhost:8080/"
    },
    "id": "GyIKgjQSy1Tu",
    "outputId": "91a61b2c-b273-4601-bfd2-f6c2eb0af733"
   },
   "outputs": [
    {
     "data": {
      "text/plain": [
       "array([77738800342])"
      ]
     },
     "execution_count": 15,
     "metadata": {},
     "output_type": "execute_result"
    }
   ],
   "source": [
    "a[div7b(a)]"
   ]
  },
  {
   "cell_type": "code",
   "execution_count": 16,
   "metadata": {
    "colab": {
     "base_uri": "https://localhost:8080/"
    },
    "id": "6XpjY6MgKpgj",
    "outputId": "3a797db5-795a-4471-9de9-ba6207875e4e"
   },
   "outputs": [
    {
     "data": {
      "text/plain": [
       "<numpy.vectorize at 0x7f005189ff10>"
      ]
     },
     "execution_count": 16,
     "metadata": {},
     "output_type": "execute_result"
    }
   ],
   "source": [
    "vdiv7b = np.vectorize(div7b)\n",
    "vdiv7b"
   ]
  },
  {
   "cell_type": "code",
   "execution_count": 17,
   "metadata": {
    "colab": {
     "base_uri": "https://localhost:8080/"
    },
    "id": "pF5iPz0hK2ci",
    "outputId": "3e9abaca-5c9a-4517-97dc-ec3de9864d6f"
   },
   "outputs": [
    {
     "data": {
      "text/plain": [
       "array([False, False, False,  True, False])"
      ]
     },
     "execution_count": 17,
     "metadata": {},
     "output_type": "execute_result"
    }
   ],
   "source": [
    "vdiv7b(a)"
   ]
  },
  {
   "cell_type": "code",
   "execution_count": 18,
   "metadata": {
    "colab": {
     "base_uri": "https://localhost:8080/"
    },
    "id": "MP6ov8YAK_I8",
    "outputId": "a6634115-159d-451c-91bf-a0485a7779b0"
   },
   "outputs": [
    {
     "data": {
      "text/plain": [
       "array([77738800342])"
      ]
     },
     "execution_count": 18,
     "metadata": {},
     "output_type": "execute_result"
    }
   ],
   "source": [
    "a[vdiv7b(a)]"
   ]
  },
  {
   "cell_type": "markdown",
   "metadata": {
    "id": "LpqwoPRHaPoy"
   },
   "source": [
    "# Processamento parelizado"
   ]
  },
  {
   "cell_type": "markdown",
   "metadata": {
    "id": "TCPqhMp9EYlx"
   },
   "source": [
    "## Inicialização do ambiente Dask"
   ]
  },
  {
   "cell_type": "code",
   "execution_count": 19,
   "metadata": {
    "id": "KKMO6dXPm8GG"
   },
   "outputs": [],
   "source": [
    "import dask\n",
    "import dask.array as da"
   ]
  },
  {
   "cell_type": "code",
   "execution_count": 20,
   "metadata": {
    "colab": {
     "base_uri": "https://localhost:8080/",
     "height": 160
    },
    "id": "prizuSoqm8dg",
    "outputId": "990f3bff-da7e-40e5-954f-79011e4edef1"
   },
   "outputs": [
    {
     "data": {
      "text/html": [
       "<table style=\"border: 2px solid white;\">\n",
       "<tr>\n",
       "<td style=\"vertical-align: top; border: 0px solid white\">\n",
       "<h3 style=\"text-align: left;\">Client</h3>\n",
       "<ul style=\"text-align: left; list-style: none; margin: 0; padding: 0;\">\n",
       "  <li><b>Scheduler: </b>tcp://127.0.0.1:36219</li>\n",
       "  <li><b>Dashboard: </b><a href='http://127.0.0.1:8787/status' target='_blank'>http://127.0.0.1:8787/status</a></li>\n",
       "</ul>\n",
       "</td>\n",
       "<td style=\"vertical-align: top; border: 0px solid white\">\n",
       "<h3 style=\"text-align: left;\">Cluster</h3>\n",
       "<ul style=\"text-align: left; list-style:none; margin: 0; padding: 0;\">\n",
       "  <li><b>Workers: </b>8</li>\n",
       "  <li><b>Cores: </b>16</li>\n",
       "  <li><b>Memory: </b>9.31 GiB</li>\n",
       "</ul>\n",
       "</td>\n",
       "</tr>\n",
       "</table>"
      ],
      "text/plain": [
       "<Client: 'tcp://127.0.0.1:36219' processes=8 threads=16, memory=9.31 GiB>"
      ]
     },
     "execution_count": 20,
     "metadata": {},
     "output_type": "execute_result"
    }
   ],
   "source": [
    "from dask.distributed import Client\n",
    "\n",
    "client = Client(n_workers=8, memory_limit=\"1.25GB\")\n",
    "#client = Client(n_workers=4, memory_limit=\"2.5GB\")\n",
    "#client = Client(n_workers=8)\n",
    "client"
   ]
  },
  {
   "cell_type": "markdown",
   "metadata": {
    "id": "OdC9FGewnGWr"
   },
   "source": [
    "## Criação dos dados"
   ]
  },
  {
   "cell_type": "markdown",
   "metadata": {
    "id": "Fns3q0Dseld0"
   },
   "source": [
    "### Via vetor na memória"
   ]
  },
  {
   "cell_type": "code",
   "execution_count": 31,
   "metadata": {
    "colab": {
     "base_uri": "https://localhost:8080/",
     "height": 130
    },
    "id": "6F7ZhyoYm9pV",
    "outputId": "4ad4e63e-26c7-425d-e97e-501f7d19507b"
   },
   "outputs": [
    {
     "data": {
      "text/html": [
       "<table>\n",
       "<tr>\n",
       "<td>\n",
       "<table>\n",
       "  <thead>\n",
       "    <tr><td> </td><th> Array </th><th> Chunk </th></tr>\n",
       "  </thead>\n",
       "  <tbody>\n",
       "    <tr><th> Bytes </th><td> 762.94 MiB </td> <td> 95.37 MiB </td></tr>\n",
       "    <tr><th> Shape </th><td> (100000000,) </td> <td> (12500000,) </td></tr>\n",
       "    <tr><th> Count </th><td> 8 Tasks </td><td> 8 Chunks </td></tr>\n",
       "    <tr><th> Type </th><td> int64 </td><td> numpy.ndarray </td></tr>\n",
       "  </tbody>\n",
       "</table>\n",
       "</td>\n",
       "<td>\n",
       "<svg width=\"170\" height=\"75\" style=\"stroke:rgb(0,0,0);stroke-width:1\" >\n",
       "\n",
       "  <!-- Horizontal lines -->\n",
       "  <line x1=\"0\" y1=\"0\" x2=\"120\" y2=\"0\" style=\"stroke-width:2\" />\n",
       "  <line x1=\"0\" y1=\"25\" x2=\"120\" y2=\"25\" style=\"stroke-width:2\" />\n",
       "\n",
       "  <!-- Vertical lines -->\n",
       "  <line x1=\"0\" y1=\"0\" x2=\"0\" y2=\"25\" style=\"stroke-width:2\" />\n",
       "  <line x1=\"15\" y1=\"0\" x2=\"15\" y2=\"25\" />\n",
       "  <line x1=\"30\" y1=\"0\" x2=\"30\" y2=\"25\" />\n",
       "  <line x1=\"45\" y1=\"0\" x2=\"45\" y2=\"25\" />\n",
       "  <line x1=\"60\" y1=\"0\" x2=\"60\" y2=\"25\" />\n",
       "  <line x1=\"75\" y1=\"0\" x2=\"75\" y2=\"25\" />\n",
       "  <line x1=\"90\" y1=\"0\" x2=\"90\" y2=\"25\" />\n",
       "  <line x1=\"105\" y1=\"0\" x2=\"105\" y2=\"25\" />\n",
       "  <line x1=\"120\" y1=\"0\" x2=\"120\" y2=\"25\" style=\"stroke-width:2\" />\n",
       "\n",
       "  <!-- Colored Rectangle -->\n",
       "  <polygon points=\"0.0,0.0 120.0,0.0 120.0,25.412616514582485 0.0,25.412616514582485\" style=\"fill:#ECB172A0;stroke-width:0\"/>\n",
       "\n",
       "  <!-- Text -->\n",
       "  <text x=\"60.000000\" y=\"45.412617\" font-size=\"1.0rem\" font-weight=\"100\" text-anchor=\"middle\" >100000000</text>\n",
       "  <text x=\"140.000000\" y=\"12.706308\" font-size=\"1.0rem\" font-weight=\"100\" text-anchor=\"middle\" transform=\"rotate(0,140.000000,12.706308)\">1</text>\n",
       "</svg>\n",
       "</td>\n",
       "</tr>\n",
       "</table>"
      ],
      "text/plain": [
       "dask.array<array, shape=(100000000,), dtype=int64, chunksize=(12500000,), chunktype=numpy.ndarray>"
      ]
     },
     "execution_count": 31,
     "metadata": {},
     "output_type": "execute_result"
    }
   ],
   "source": [
    "# criação do vetor de forma distribuída a partir da memória\n",
    "numeros_distribuidos = da.from_array(amostras, chunks=('auto',))\n",
    "numeros_distribuidos"
   ]
  },
  {
   "cell_type": "code",
   "execution_count": 32,
   "metadata": {
    "id": "85LDI5cunSlX"
   },
   "outputs": [],
   "source": [
    "del amostras"
   ]
  },
  {
   "cell_type": "markdown",
   "metadata": {
    "id": "lu93yBK9ep9v"
   },
   "source": [
    "### Via arquivos de texto"
   ]
  },
  {
   "cell_type": "code",
   "execution_count": 21,
   "metadata": {
    "colab": {
     "base_uri": "https://localhost:8080/",
     "height": 130
    },
    "id": "o5lvub9Jesma",
    "outputId": "3c4db076-ef83-4807-885a-692fb8bdc0e1"
   },
   "outputs": [],
   "source": [
    "import glob\n",
    "\n",
    "arquivos = []\n",
    "for arquivo in glob.glob(\"arquivos/*.txt\"):\n",
    "  d = dask.delayed(np.loadtxt)(arquivo)\n",
    "  arquivos.append(da.from_delayed(d, (np.nan,), dtype=np.int64))\n",
    "\n",
    "# criação do vetor a partir dos arquivos de forma preguiçosa\n",
    "numeros_distribuidos = da.concatenate(arquivos, allow_unknown_chunksizes=True)"
   ]
  },
  {
   "cell_type": "code",
   "execution_count": 22,
   "metadata": {
    "id": "3_RTl8CXtrS-"
   },
   "outputs": [
    {
     "name": "stdout",
     "output_type": "stream",
     "text": [
      "CPU times: user 1.31 s, sys: 76 ms, total: 1.39 s\n",
      "Wall time: 35.6 s\n"
     ]
    },
    {
     "data": {
      "text/html": [
       "<table>\n",
       "<tr>\n",
       "<td>\n",
       "<table>\n",
       "  <thead>\n",
       "    <tr><td> </td><th> Array </th><th> Chunk </th></tr>\n",
       "  </thead>\n",
       "  <tbody>\n",
       "    <tr><th> Bytes </th><td> 762.94 MiB </td> <td> 38.15 MiB </td></tr>\n",
       "    <tr><th> Shape </th><td> (100000000,) </td> <td> (5000000,) </td></tr>\n",
       "    <tr><th> Count </th><td> 60 Tasks </td><td> 20 Chunks </td></tr>\n",
       "    <tr><th> Type </th><td> int64 </td><td> numpy.ndarray </td></tr>\n",
       "  </tbody>\n",
       "</table>\n",
       "</td>\n",
       "<td>\n",
       "<svg width=\"170\" height=\"75\" style=\"stroke:rgb(0,0,0);stroke-width:1\" >\n",
       "\n",
       "  <!-- Horizontal lines -->\n",
       "  <line x1=\"0\" y1=\"0\" x2=\"120\" y2=\"0\" style=\"stroke-width:2\" />\n",
       "  <line x1=\"0\" y1=\"25\" x2=\"120\" y2=\"25\" style=\"stroke-width:2\" />\n",
       "\n",
       "  <!-- Vertical lines -->\n",
       "  <line x1=\"0\" y1=\"0\" x2=\"0\" y2=\"25\" style=\"stroke-width:2\" />\n",
       "  <line x1=\"6\" y1=\"0\" x2=\"6\" y2=\"25\" />\n",
       "  <line x1=\"12\" y1=\"0\" x2=\"12\" y2=\"25\" />\n",
       "  <line x1=\"18\" y1=\"0\" x2=\"18\" y2=\"25\" />\n",
       "  <line x1=\"24\" y1=\"0\" x2=\"24\" y2=\"25\" />\n",
       "  <line x1=\"30\" y1=\"0\" x2=\"30\" y2=\"25\" />\n",
       "  <line x1=\"36\" y1=\"0\" x2=\"36\" y2=\"25\" />\n",
       "  <line x1=\"42\" y1=\"0\" x2=\"42\" y2=\"25\" />\n",
       "  <line x1=\"48\" y1=\"0\" x2=\"48\" y2=\"25\" />\n",
       "  <line x1=\"54\" y1=\"0\" x2=\"54\" y2=\"25\" />\n",
       "  <line x1=\"60\" y1=\"0\" x2=\"60\" y2=\"25\" />\n",
       "  <line x1=\"66\" y1=\"0\" x2=\"66\" y2=\"25\" />\n",
       "  <line x1=\"72\" y1=\"0\" x2=\"72\" y2=\"25\" />\n",
       "  <line x1=\"78\" y1=\"0\" x2=\"78\" y2=\"25\" />\n",
       "  <line x1=\"84\" y1=\"0\" x2=\"84\" y2=\"25\" />\n",
       "  <line x1=\"90\" y1=\"0\" x2=\"90\" y2=\"25\" />\n",
       "  <line x1=\"96\" y1=\"0\" x2=\"96\" y2=\"25\" />\n",
       "  <line x1=\"102\" y1=\"0\" x2=\"102\" y2=\"25\" />\n",
       "  <line x1=\"108\" y1=\"0\" x2=\"108\" y2=\"25\" />\n",
       "  <line x1=\"120\" y1=\"0\" x2=\"120\" y2=\"25\" style=\"stroke-width:2\" />\n",
       "\n",
       "  <!-- Colored Rectangle -->\n",
       "  <polygon points=\"0.0,0.0 120.0,0.0 120.0,25.412616514582485 0.0,25.412616514582485\" style=\"fill:#8B4903A0;stroke-width:0\"/>\n",
       "\n",
       "  <!-- Text -->\n",
       "  <text x=\"60.000000\" y=\"45.412617\" font-size=\"1.0rem\" font-weight=\"100\" text-anchor=\"middle\" >100000000</text>\n",
       "  <text x=\"140.000000\" y=\"12.706308\" font-size=\"1.0rem\" font-weight=\"100\" text-anchor=\"middle\" transform=\"rotate(0,140.000000,12.706308)\">1</text>\n",
       "</svg>\n",
       "</td>\n",
       "</tr>\n",
       "</table>"
      ],
      "text/plain": [
       "dask.array<concatenate, shape=(100000000,), dtype=int64, chunksize=(5000000,), chunktype=numpy.ndarray>"
      ]
     },
     "execution_count": 22,
     "metadata": {},
     "output_type": "execute_result"
    }
   ],
   "source": [
    "%%time\n",
    "numeros_distribuidos.compute_chunk_sizes()"
   ]
  },
  {
   "cell_type": "markdown",
   "metadata": {
    "id": "J3nYzTKMnbFT"
   },
   "source": [
    "## Filtragem com _map_blocks_"
   ]
  },
  {
   "cell_type": "code",
   "execution_count": 33,
   "metadata": {
    "id": "JGjMbxxBnVoD"
   },
   "outputs": [],
   "source": [
    "def filtrar_cpfs_validos(numeros):\n",
    "  return numeros[vcpf_valido(numeros)]"
   ]
  },
  {
   "cell_type": "code",
   "execution_count": 34,
   "metadata": {
    "colab": {
     "base_uri": "https://localhost:8080/",
     "height": 130
    },
    "id": "QyRMstCYnjM7",
    "outputId": "5a45be47-1a0d-4171-946d-bf94d9eea6e5"
   },
   "outputs": [
    {
     "data": {
      "text/html": [
       "<table>\n",
       "<tr>\n",
       "<td>\n",
       "<table>\n",
       "  <thead>\n",
       "    <tr><td> </td><th> Array </th><th> Chunk </th></tr>\n",
       "  </thead>\n",
       "  <tbody>\n",
       "    <tr><th> Bytes </th><td> 762.94 MiB </td> <td> 95.37 MiB </td></tr>\n",
       "    <tr><th> Shape </th><td> (100000000,) </td> <td> (12500000,) </td></tr>\n",
       "    <tr><th> Count </th><td> 16 Tasks </td><td> 8 Chunks </td></tr>\n",
       "    <tr><th> Type </th><td> int64 </td><td> numpy.ndarray </td></tr>\n",
       "  </tbody>\n",
       "</table>\n",
       "</td>\n",
       "<td>\n",
       "<svg width=\"170\" height=\"75\" style=\"stroke:rgb(0,0,0);stroke-width:1\" >\n",
       "\n",
       "  <!-- Horizontal lines -->\n",
       "  <line x1=\"0\" y1=\"0\" x2=\"120\" y2=\"0\" style=\"stroke-width:2\" />\n",
       "  <line x1=\"0\" y1=\"25\" x2=\"120\" y2=\"25\" style=\"stroke-width:2\" />\n",
       "\n",
       "  <!-- Vertical lines -->\n",
       "  <line x1=\"0\" y1=\"0\" x2=\"0\" y2=\"25\" style=\"stroke-width:2\" />\n",
       "  <line x1=\"15\" y1=\"0\" x2=\"15\" y2=\"25\" />\n",
       "  <line x1=\"30\" y1=\"0\" x2=\"30\" y2=\"25\" />\n",
       "  <line x1=\"45\" y1=\"0\" x2=\"45\" y2=\"25\" />\n",
       "  <line x1=\"60\" y1=\"0\" x2=\"60\" y2=\"25\" />\n",
       "  <line x1=\"75\" y1=\"0\" x2=\"75\" y2=\"25\" />\n",
       "  <line x1=\"90\" y1=\"0\" x2=\"90\" y2=\"25\" />\n",
       "  <line x1=\"105\" y1=\"0\" x2=\"105\" y2=\"25\" />\n",
       "  <line x1=\"120\" y1=\"0\" x2=\"120\" y2=\"25\" style=\"stroke-width:2\" />\n",
       "\n",
       "  <!-- Colored Rectangle -->\n",
       "  <polygon points=\"0.0,0.0 120.0,0.0 120.0,25.412616514582485 0.0,25.412616514582485\" style=\"fill:#ECB172A0;stroke-width:0\"/>\n",
       "\n",
       "  <!-- Text -->\n",
       "  <text x=\"60.000000\" y=\"45.412617\" font-size=\"1.0rem\" font-weight=\"100\" text-anchor=\"middle\" >100000000</text>\n",
       "  <text x=\"140.000000\" y=\"12.706308\" font-size=\"1.0rem\" font-weight=\"100\" text-anchor=\"middle\" transform=\"rotate(0,140.000000,12.706308)\">1</text>\n",
       "</svg>\n",
       "</td>\n",
       "</tr>\n",
       "</table>"
      ],
      "text/plain": [
       "dask.array<filtrar_cpfs_validos, shape=(100000000,), dtype=int64, chunksize=(12500000,), chunktype=numpy.ndarray>"
      ]
     },
     "execution_count": 34,
     "metadata": {},
     "output_type": "execute_result"
    }
   ],
   "source": [
    "validos = da.map_blocks(filtrar_cpfs_validos,\n",
    "                           numeros_distribuidos,\n",
    "                           meta=np.array((), dtype=np.int64))\n",
    "validos"
   ]
  },
  {
   "cell_type": "code",
   "execution_count": 35,
   "metadata": {
    "colab": {
     "base_uri": "https://localhost:8080/"
    },
    "id": "_RVDAxaznngL",
    "outputId": "e7227644-18dd-4811-cdea-79191a165ad4"
   },
   "outputs": [
    {
     "data": {
      "text/plain": [
       "<dask.highlevelgraph.HighLevelGraph at 0x7f0020694310>"
      ]
     },
     "execution_count": 35,
     "metadata": {},
     "output_type": "execute_result"
    }
   ],
   "source": [
    "validos.dask"
   ]
  },
  {
   "cell_type": "code",
   "execution_count": 36,
   "metadata": {
    "colab": {
     "base_uri": "https://localhost:8080/",
     "height": 190
    },
    "id": "tietn39enp_z",
    "outputId": "b4e40075-6469-494f-b109-6fb4f4c9d2e3"
   },
   "outputs": [
    {
     "data": {
      "image/png": "[encoded data removed]",
      "text/plain": [
       "<IPython.core.display.Image object>"
      ]
     },
     "execution_count": 36,
     "metadata": {},
     "output_type": "execute_result"
    }
   ],
   "source": [
    "validos.visualize()"
   ]
  },
  {
   "cell_type": "code",
   "execution_count": 37,
   "metadata": {
    "colab": {
     "base_uri": "https://localhost:8080/"
    },
    "id": "dMWq8fDXnr83",
    "outputId": "ebc3b5f2-469b-4058-f476-d24e8a8f2d58"
   },
   "outputs": [
    {
     "name": "stdout",
     "output_type": "stream",
     "text": [
      "CPU times: user 932 ms, sys: 563 ms, total: 1.5 s\n",
      "Wall time: 26.8 s\n"
     ]
    }
   ],
   "source": [
    "%%time\n",
    "cpfs_validos = validos.compute().astype(np.int64)"
   ]
  },
  {
   "cell_type": "markdown",
   "metadata": {
    "id": "N1kca50a-iR0"
   },
   "source": [
    "## Filtragem com _filter_"
   ]
  },
  {
   "cell_type": "code",
   "execution_count": 28,
   "metadata": {
    "id": "Fb89_Ozs-mUw"
   },
   "outputs": [],
   "source": [
    "# FIXME: não funcionou...\n",
    "\n",
    "#validos = da.where(vcpf_valido(numeros_distribuidos), numeros_distribuidos, 0)\n",
    "#validos"
   ]
  },
  {
   "cell_type": "markdown",
   "metadata": {
    "id": "G2sB7aUdn3If"
   },
   "source": [
    "## Exibição do resultado"
   ]
  },
  {
   "cell_type": "code",
   "execution_count": 38,
   "metadata": {
    "colab": {
     "base_uri": "https://localhost:8080/"
    },
    "id": "-42qV6D5nxvL",
    "outputId": "a37ea17c-b1e8-4dc2-ded7-690df3982a59"
   },
   "outputs": [
    {
     "data": {
      "text/plain": [
       "array([ 7395928407, 67890174292, 39542408234, 64972932643, 29879232283,\n",
       "       20298534452, 40277561426, 91162110228, 15646246172, 21763352609])"
      ]
     },
     "execution_count": 38,
     "metadata": {},
     "output_type": "execute_result"
    }
   ],
   "source": [
    "# exibição do resultado\n",
    "cpfs_validos[:10]"
   ]
  },
  {
   "cell_type": "code",
   "execution_count": 39,
   "metadata": {
    "colab": {
     "base_uri": "https://localhost:8080/"
    },
    "id": "87VfhaCin8SR",
    "outputId": "4c4da396-0fb9-4ff5-c60e-535c86d0e28b"
   },
   "outputs": [
    {
     "name": "stdout",
     "output_type": "stream",
     "text": [
      "Do total de 100000000 números da amostra, apenas 1001198 são CPFs válidos (1.00%).\n"
     ]
    }
   ],
   "source": [
    "print(\"Do total de %d números da amostra, apenas %d são CPFs válidos (%.2f%%).\" % (\n",
    "    len(numeros_distribuidos), len(cpfs_validos),\n",
    "    len(cpfs_validos) / len(numeros_distribuidos) * 100))"
   ]
  },
  {
   "cell_type": "markdown",
   "metadata": {
    "id": "xKcyX1a3oDrR"
   },
   "source": [
    "## Finalização do ambiente Dask"
   ]
  },
  {
   "cell_type": "code",
   "execution_count": 40,
   "metadata": {
    "id": "f4q_yVhdoAzl"
   },
   "outputs": [],
   "source": [
    "client.close()"
   ]
  }
 ],
 "metadata": {
  "colab": {
   "provenance": [],
   "toc_visible": true
  },
  "kernelspec": {
   "display_name": "Python 3",
   "language": "python",
   "name": "python3"
  },
  "language_info": {
   "codemirror_mode": {
    "name": "ipython",
    "version": 3
   },
   "file_extension": ".py",
   "mimetype": "text/x-python",
   "name": "python",
   "nbconvert_exporter": "python",
   "pygments_lexer": "ipython3",
   "version": "3.8.8"
  }
 },
 "nbformat": 4,
 "nbformat_minor": 1
}
